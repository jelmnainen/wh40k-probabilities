{
 "cells": [
  {
   "cell_type": "code",
   "execution_count": 10,
   "metadata": {},
   "outputs": [],
   "source": [
    "from fractions import Fraction\n",
    "from enum import Enum\n",
    "from scipy.stats import binom\n",
    "import matplotlib.pyplot as plt\n",
    "import numpy as np"
   ]
  },
  {
   "cell_type": "code",
   "execution_count": 2,
   "metadata": {},
   "outputs": [],
   "source": [
    "class Reroll(Enum):\n",
    "    ones = 1\n",
    "    every = 2"
   ]
  },
  {
   "cell_type": "code",
   "execution_count": 12,
   "metadata": {},
   "outputs": [],
   "source": [
    "from scipy.stats import binom\n",
    "from fractions import Fraction\n",
    "from enum import Enum\n",
    "\n",
    "class Reroll(Enum):\n",
    "    ones = 1\n",
    "    every = 2\n",
    "\n",
    "def approx_fraction(f):\n",
    "    return f.numerator / f.denominator\n",
    "\n",
    "def calc_prob(base_prop_numerator, modifier=0, rerolls=None, always_success_on=None):\n",
    "    modifier = max(-1, min(1, modifier)) # clamp to [-1, 1]\n",
    "    prob_success_numerator = max(1, min(5, base_prop_numerator + modifier))\n",
    "    prob_success = Fraction(prob_success_numerator, 6)\n",
    "    if (always_success_on):\n",
    "        prob_success = max(prob_success, Fraction(6 - (always_success_on - 1), 6))\n",
    "    if rerolls == Reroll.ones:\n",
    "        prob_success = prob_success + Fraction(1, 6) * prob_success\n",
    "    if rerolls == Reroll.every:\n",
    "        prob_success = prob_success + Fraction(6 - prob_success_numerator, 6) * prob_success\n",
    "    return prob_success\n",
    "\n",
    "def p_hit(skill, modifier=0, rerolls=None, always_hit_on=None):\n",
    "    p_hit_numerator = 6 - (skill - 1)\n",
    "    return calc_prob(p_hit_numerator, modifier, rerolls, always_hit_on)\n",
    "\n",
    "def get_wound_numerator(strength, toughness):\n",
    "    if strength >= 2 * toughness:\n",
    "        return 5\n",
    "    if strength > toughness:\n",
    "        return 4\n",
    "    if strength == toughness:\n",
    "        return 3\n",
    "    if strength * 2 <= toughness:\n",
    "        return 1\n",
    "    if strength < toughness:\n",
    "        return 2\n",
    "\n",
    "def p_wound(strength, toughness, modifier=0, rerolls=None, always_wound_on=None):\n",
    "    \"\"\"\n",
    "        Return the probability of wounding.\n",
    "        Strength is the strength of the attack,\n",
    "        Toughness is the toughness of receiver,\n",
    "        always_wound_on returns just the probability of (always_wound_on - 1) / 6\n",
    "    \"\"\"\n",
    "    p_wound_numerator = get_wound_numerator(strength, toughness)\n",
    "    return calc_prob(p_wound_numerator, modifier, rerolls, always_wound_on)\n",
    "\n",
    "def p_not_saved(armor_save, ap=None, invulnerable_save=None, modifier=0, rerolls=None):\n",
    "    \"\"\"\n",
    "        Return the probability of wound going through armor.\n",
    "        ap is positive integer\n",
    "    \"\"\"\n",
    "    if not armor_save:\n",
    "        return 1\n",
    "    save = armor_save\n",
    "    if ap:\n",
    "        save = armor_save + ap\n",
    "    if invulnerable_save and save > invulnerable_save:\n",
    "        save = invulnerable_save\n",
    "    modified_save = save\n",
    "    if modifier:\n",
    "        modified_save = modified_save - modifier\n",
    "    if modified_save > 6:\n",
    "        return 1\n",
    "    save_succeeds_numerator = 6 - (save - 1)\n",
    "    return 1 - calc_prob(save_succeeds_numerator, modifier, rerolls)\n",
    "\n",
    "\n",
    "def calc_distribution(\n",
    "    skill,\n",
    "    strength,\n",
    "    toughness,\n",
    "    armor_save=None,\n",
    "    ap=0,\n",
    "    invulnerable_save=None,\n",
    "    hit_modifier=0,\n",
    "    wound_modifier=0,\n",
    "    armor_save_modifier=0,\n",
    "    hit_rerolls=None,\n",
    "    wound_rerolls=None,\n",
    "    armor_rerolls=None,\n",
    "    always_hit_on=None,\n",
    "    always_wound_on=None\n",
    "    ):\n",
    "    prob_hit = p_hit(skill, hit_modifier, hit_rerolls, always_hit_on)\n",
    "    prob_wound = p_wound(strength, toughness, wound_modifier, wound_rerolls, always_wound_on)\n",
    "    prob_not_saved = p_not_saved(armor_save, ap, invulnerable_save, armor_save_modifier, armor_rerolls)\n",
    "    return approx_fraction(prob_hit * prob_wound * prob_not_saved)\n"
   ]
  },
  {
   "cell_type": "code",
   "execution_count": 35,
   "metadata": {},
   "outputs": [
    {
     "data": {
      "image/png": "[encoded data removed]",
      "text/plain": [
       "<matplotlib.figure.Figure at 0x103e84a90>"
      ]
     },
     "metadata": {
      "needs_background": "light"
     },
     "output_type": "display_data"
    }
   ],
   "source": [
    "p = calc_distribution(3, 4, 4, armor_save=4)\n",
    "n = 10\n",
    "\n",
    "x = np.arange(binom.ppf(0, n, p), binom.ppf(1, n, p))\n",
    "fig, ax = plt.subplots(1, 1)\n",
    "ax.plot(x, binom.pmf(x, n, p), 'bo')\n",
    "ax.vlines(x, 0, binom.pmf(x, n, p), colors='b', lw=5, alpha=0.5)\n",
    "#ax.title = \"5 Dire Avengers vs Necron warriors\"\n",
    "ax.ylabel = \"p\"\n",
    "ax.xlabel = \"wounds\" \n",
    "plt.show()"
   ]
  },
  {
   "cell_type": "code",
   "execution_count": 34,
   "metadata": {},
   "outputs": [
    {
     "data": {
      "text/plain": [
       "10.0"
      ]
     },
     "execution_count": 34,
     "metadata": {},
     "output_type": "execute_result"
    }
   ],
   "source": []
  },
  {
   "cell_type": "code",
   "execution_count": null,
   "metadata": {},
   "outputs": [],
   "source": []
  }
 ],
 "metadata": {
  "kernelspec": {
   "display_name": "Python 3",
   "language": "python",
   "name": "python3"
  },
  "language_info": {
   "codemirror_mode": {
    "name": "ipython",
    "version": 3
   },
   "file_extension": ".py",
   "mimetype": "text/x-python",
   "name": "python",
   "nbconvert_exporter": "python",
   "pygments_lexer": "ipython3",
   "version": "3.6.1"
  }
 },
 "nbformat": 4,
 "nbformat_minor": 4
}
